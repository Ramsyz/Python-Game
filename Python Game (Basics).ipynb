{
 "cells": [
  {
   "cell_type": "code",
   "execution_count": 8,
   "metadata": {},
   "outputs": [
    {
     "name": "stdout",
     "output_type": "stream",
     "text": [
      "Welcome to my first game!\n",
      "What is your name?tat\n",
      "What is your age?34\n",
      "You are old enough!\n",
      "Do you want to play? yes\n",
      "You are starting with 10 health\n",
      "Let's Play!\n",
      "First choice... Left or Right (Left/Right)?left\n",
      "Nice, you follow the path and reach a lake... Do you swim across or go around (across/around)? across\n",
      "You managed to get across, but were bit by a fish and lost 5 health.\n",
      "You notice a house and a river. which do you go to  (river/house)? house\n",
      "You go to the house and greated by the owner... He doesnt like you and you lose 5 health\n",
      "You now have 0 health and you lost the game..\n"
     ]
    }
   ],
   "source": [
    "print('Welcome to my first game!')\n",
    "name = input('What is your name?')\n",
    "age = input('What is your age?')\n",
    "\n",
    "health = 10\n",
    "\n",
    "if int(age) >=25:\n",
    "    print('You are old enough!')\n",
    "    wants_to_play = input('Do you want to play? ').lower()\n",
    "    if wants_to_play == 'yes':\n",
    "        print('You are starting with', health,'health')\n",
    "        print(\"Let's Play!\")\n",
    "        \n",
    "        left_or_right = input('First choice... Left or Right (Left/Right)?')\n",
    "        if left_or_right == 'left':\n",
    "            ans = input('Nice, you follow the path and reach a lake... Do you swim across or go around (across/around)? ')\n",
    "            \n",
    "            if ans == 'around':\n",
    "                print('You went around and reached the other side of the lake.')\n",
    "            elif ans == 'across':\n",
    "                print('You managed to get across, but were bit by a fish and lost 5 health.')\n",
    "                health -= 5\n",
    "            ans = input('You notice a house and a river. which do you go to  (river/house)? ')\n",
    "            if ans == 'house':\n",
    "                print('You go to the house and greated by the owner... He doesnt like you and you lose 5 health')\n",
    "                health -=5\n",
    "                if health <= 0:\n",
    "                    print('You now have 0 health and you lost the game..')\n",
    "                else:\n",
    "                    print('You have survived... You win!')\n",
    "            else:\n",
    "                print('You fell in the river and lost...')\n",
    "        else:\n",
    "            print('You fell down and lost...')\n",
    "    else:\n",
    "        print('Cya....')\n",
    "else:\n",
    "    print('You are not old enough!')\n"
   ]
  },
  {
   "cell_type": "code",
   "execution_count": null,
   "metadata": {},
   "outputs": [],
   "source": []
  },
  {
   "cell_type": "code",
   "execution_count": null,
   "metadata": {},
   "outputs": [],
   "source": []
  }
 ],
 "metadata": {
  "kernelspec": {
   "display_name": "Python 3",
   "language": "python",
   "name": "python3"
  },
  "language_info": {
   "codemirror_mode": {
    "name": "ipython",
    "version": 3
   },
   "file_extension": ".py",
   "mimetype": "text/x-python",
   "name": "python",
   "nbconvert_exporter": "python",
   "pygments_lexer": "ipython3",
   "version": "3.7.3"
  }
 },
 "nbformat": 4,
 "nbformat_minor": 4
}
